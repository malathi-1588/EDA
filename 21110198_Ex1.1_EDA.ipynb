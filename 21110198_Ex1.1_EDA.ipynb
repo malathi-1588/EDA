{
 "cells": [
  {
   "cell_type": "markdown",
   "id": "2d4d045b",
   "metadata": {},
   "source": [
    "# Exercise 1.1\n",
    "1. (a) Read employees.csv file (file given in LMS)"
   ]
  },
  {
   "cell_type": "code",
   "execution_count": 19,
   "id": "35b7d45c",
   "metadata": {},
   "outputs": [],
   "source": [
    "import pandas as pd\n",
    "data = pd.read_csv(r'D:\\Malathi\\EDA\\employees.csv')"
   ]
  },
  {
   "cell_type": "markdown",
   "id": "2f54593c",
   "metadata": {},
   "source": [
    "2. (b) Find the number of non-null values in each column present."
   ]
  },
  {
   "cell_type": "code",
   "execution_count": 20,
   "id": "bb54fe3a",
   "metadata": {},
   "outputs": [
    {
     "name": "stdout",
     "output_type": "stream",
     "text": [
      "<class 'pandas.core.frame.DataFrame'>\n",
      "RangeIndex: 1000 entries, 0 to 999\n",
      "Data columns (total 8 columns):\n",
      " #   Column             Non-Null Count  Dtype  \n",
      "---  ------             --------------  -----  \n",
      " 0   First Name         933 non-null    object \n",
      " 1   Gender             855 non-null    object \n",
      " 2   Start Date         1000 non-null   object \n",
      " 3   Last Login Time    1000 non-null   object \n",
      " 4   Salary             1000 non-null   int64  \n",
      " 5   Bonus %            1000 non-null   float64\n",
      " 6   Senior Management  933 non-null    object \n",
      " 7   Team               957 non-null    object \n",
      "dtypes: float64(1), int64(1), object(6)\n",
      "memory usage: 62.6+ KB\n"
     ]
    }
   ],
   "source": [
    "data.info()"
   ]
  },
  {
   "cell_type": "markdown",
   "id": "bc64223f",
   "metadata": {},
   "source": [
    "3. (c) Remove the rows containing null values from the non-numeric columns."
   ]
  },
  {
   "cell_type": "code",
   "execution_count": 25,
   "id": "82f735b8",
   "metadata": {},
   "outputs": [
    {
     "data": {
      "text/plain": [
       "First Name           764\n",
       "Gender               764\n",
       "Start Date           764\n",
       "Last Login Time      764\n",
       "Salary               764\n",
       "Bonus %              764\n",
       "Senior Management    764\n",
       "Team                 764\n",
       "dtype: int64"
      ]
     },
     "execution_count": 25,
     "metadata": {},
     "output_type": "execute_result"
    }
   ],
   "source": [
    "data = data.dropna(subset = ['First Name', 'Gender', 'Senior Management', 'Team'])\n",
    "data.count()"
   ]
  },
  {
   "cell_type": "markdown",
   "id": "1b58c05e",
   "metadata": {},
   "source": [
    "4. (d) Find out the columns containing only numeric values."
   ]
  },
  {
   "cell_type": "code",
   "execution_count": 26,
   "id": "13dd1cce",
   "metadata": {},
   "outputs": [
    {
     "data": {
      "text/plain": [
       "First Name            object\n",
       "Gender                object\n",
       "Start Date            object\n",
       "Last Login Time       object\n",
       "Salary                 int64\n",
       "Bonus %              float64\n",
       "Senior Management     object\n",
       "Team                  object\n",
       "dtype: object"
      ]
     },
     "execution_count": 26,
     "metadata": {},
     "output_type": "execute_result"
    }
   ],
   "source": [
    "data.dtypes"
   ]
  },
  {
   "cell_type": "markdown",
   "id": "1b46cbcc",
   "metadata": {},
   "source": [
    "5. (e) Create a pandas dataframe containing count, min value, max value, mean, standard deviation for those columns containing numeric values alone."
   ]
  },
  {
   "cell_type": "code",
   "execution_count": 32,
   "id": "3b49d703",
   "metadata": {},
   "outputs": [],
   "source": [
    "data_des = data.describe()"
   ]
  },
  {
   "cell_type": "code",
   "execution_count": 34,
   "id": "4ca1d37d",
   "metadata": {},
   "outputs": [
    {
     "data": {
      "text/html": [
       "<div>\n",
       "<style scoped>\n",
       "    .dataframe tbody tr th:only-of-type {\n",
       "        vertical-align: middle;\n",
       "    }\n",
       "\n",
       "    .dataframe tbody tr th {\n",
       "        vertical-align: top;\n",
       "    }\n",
       "\n",
       "    .dataframe thead th {\n",
       "        text-align: right;\n",
       "    }\n",
       "</style>\n",
       "<table border=\"1\" class=\"dataframe\">\n",
       "  <thead>\n",
       "    <tr style=\"text-align: right;\">\n",
       "      <th></th>\n",
       "      <th>Salary</th>\n",
       "      <th>Bonus %</th>\n",
       "    </tr>\n",
       "  </thead>\n",
       "  <tbody>\n",
       "    <tr>\n",
       "      <th>count</th>\n",
       "      <td>764.000000</td>\n",
       "      <td>764.000000</td>\n",
       "    </tr>\n",
       "    <tr>\n",
       "      <th>mean</th>\n",
       "      <td>90433.196335</td>\n",
       "      <td>10.148041</td>\n",
       "    </tr>\n",
       "    <tr>\n",
       "      <th>std</th>\n",
       "      <td>32864.665282</td>\n",
       "      <td>5.608733</td>\n",
       "    </tr>\n",
       "    <tr>\n",
       "      <th>min</th>\n",
       "      <td>35013.000000</td>\n",
       "      <td>1.015000</td>\n",
       "    </tr>\n",
       "    <tr>\n",
       "      <th>max</th>\n",
       "      <td>149908.000000</td>\n",
       "      <td>19.944000</td>\n",
       "    </tr>\n",
       "  </tbody>\n",
       "</table>\n",
       "</div>"
      ],
      "text/plain": [
       "              Salary     Bonus %\n",
       "count     764.000000  764.000000\n",
       "mean    90433.196335   10.148041\n",
       "std     32864.665282    5.608733\n",
       "min     35013.000000    1.015000\n",
       "max    149908.000000   19.944000"
      ]
     },
     "execution_count": 34,
     "metadata": {},
     "output_type": "execute_result"
    }
   ],
   "source": [
    "datades = data_des.drop([\"25%\", \"50%\", \"75%\"], axis = 0)\n",
    "datades"
   ]
  },
  {
   "cell_type": "code",
   "execution_count": null,
   "id": "c0e4a585",
   "metadata": {},
   "outputs": [],
   "source": []
  }
 ],
 "metadata": {
  "kernelspec": {
   "display_name": "Python 3 (ipykernel)",
   "language": "python",
   "name": "python3"
  },
  "language_info": {
   "codemirror_mode": {
    "name": "ipython",
    "version": 3
   },
   "file_extension": ".py",
   "mimetype": "text/x-python",
   "name": "python",
   "nbconvert_exporter": "python",
   "pygments_lexer": "ipython3",
   "version": "3.9.12"
  }
 },
 "nbformat": 4,
 "nbformat_minor": 5
}
