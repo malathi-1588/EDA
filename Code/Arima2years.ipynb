{
 "cells": [
  {
   "cell_type": "code",
   "execution_count": 1,
   "id": "7502440a",
   "metadata": {},
   "outputs": [],
   "source": [
    "import pandas as pd\n",
    "import numpy as np\n",
    "\n",
    "data = pd.read_csv(\"TCS.NS.csv\")"
   ]
  },
  {
   "cell_type": "markdown",
   "id": "93d6bac3",
   "metadata": {},
   "source": [
    "## Pre-processing"
   ]
  },
  {
   "cell_type": "code",
   "execution_count": 2,
   "id": "7030daf4",
   "metadata": {},
   "outputs": [
    {
     "data": {
      "text/html": [
       "<div>\n",
       "<style scoped>\n",
       "    .dataframe tbody tr th:only-of-type {\n",
       "        vertical-align: middle;\n",
       "    }\n",
       "\n",
       "    .dataframe tbody tr th {\n",
       "        vertical-align: top;\n",
       "    }\n",
       "\n",
       "    .dataframe thead th {\n",
       "        text-align: right;\n",
       "    }\n",
       "</style>\n",
       "<table border=\"1\" class=\"dataframe\">\n",
       "  <thead>\n",
       "    <tr style=\"text-align: right;\">\n",
       "      <th></th>\n",
       "      <th>Date</th>\n",
       "      <th>Open</th>\n",
       "      <th>High</th>\n",
       "      <th>Low</th>\n",
       "      <th>Close</th>\n",
       "      <th>Adj Close</th>\n",
       "      <th>Volume</th>\n",
       "    </tr>\n",
       "  </thead>\n",
       "  <tbody>\n",
       "    <tr>\n",
       "      <th>0</th>\n",
       "      <td>2002-08-12</td>\n",
       "      <td>38.724998</td>\n",
       "      <td>40.000000</td>\n",
       "      <td>38.724998</td>\n",
       "      <td>39.700001</td>\n",
       "      <td>29.062008</td>\n",
       "      <td>212976.0</td>\n",
       "    </tr>\n",
       "    <tr>\n",
       "      <th>1</th>\n",
       "      <td>2002-08-13</td>\n",
       "      <td>39.750000</td>\n",
       "      <td>40.387501</td>\n",
       "      <td>38.875000</td>\n",
       "      <td>39.162498</td>\n",
       "      <td>28.668533</td>\n",
       "      <td>153576.0</td>\n",
       "    </tr>\n",
       "    <tr>\n",
       "      <th>2</th>\n",
       "      <td>2002-08-14</td>\n",
       "      <td>39.250000</td>\n",
       "      <td>39.250000</td>\n",
       "      <td>35.724998</td>\n",
       "      <td>36.462502</td>\n",
       "      <td>26.692036</td>\n",
       "      <td>822776.0</td>\n",
       "    </tr>\n",
       "    <tr>\n",
       "      <th>3</th>\n",
       "      <td>2002-08-15</td>\n",
       "      <td>36.462502</td>\n",
       "      <td>36.462502</td>\n",
       "      <td>36.462502</td>\n",
       "      <td>36.462502</td>\n",
       "      <td>26.692036</td>\n",
       "      <td>0.0</td>\n",
       "    </tr>\n",
       "    <tr>\n",
       "      <th>4</th>\n",
       "      <td>2002-08-16</td>\n",
       "      <td>36.275002</td>\n",
       "      <td>38.000000</td>\n",
       "      <td>35.750000</td>\n",
       "      <td>36.375000</td>\n",
       "      <td>26.627970</td>\n",
       "      <td>811856.0</td>\n",
       "    </tr>\n",
       "    <tr>\n",
       "      <th>5</th>\n",
       "      <td>2002-08-19</td>\n",
       "      <td>36.674999</td>\n",
       "      <td>36.674999</td>\n",
       "      <td>35.137501</td>\n",
       "      <td>35.474998</td>\n",
       "      <td>25.969135</td>\n",
       "      <td>205880.0</td>\n",
       "    </tr>\n",
       "    <tr>\n",
       "      <th>6</th>\n",
       "      <td>2002-08-20</td>\n",
       "      <td>35.724998</td>\n",
       "      <td>38.724998</td>\n",
       "      <td>35.487499</td>\n",
       "      <td>36.462502</td>\n",
       "      <td>26.692036</td>\n",
       "      <td>3773624.0</td>\n",
       "    </tr>\n",
       "    <tr>\n",
       "      <th>7</th>\n",
       "      <td>2002-08-21</td>\n",
       "      <td>38.474998</td>\n",
       "      <td>39.200001</td>\n",
       "      <td>36.525002</td>\n",
       "      <td>38.250000</td>\n",
       "      <td>28.000542</td>\n",
       "      <td>3011064.0</td>\n",
       "    </tr>\n",
       "    <tr>\n",
       "      <th>8</th>\n",
       "      <td>2002-08-22</td>\n",
       "      <td>39.512501</td>\n",
       "      <td>41.575001</td>\n",
       "      <td>39.312500</td>\n",
       "      <td>39.900002</td>\n",
       "      <td>29.208418</td>\n",
       "      <td>6732480.0</td>\n",
       "    </tr>\n",
       "    <tr>\n",
       "      <th>9</th>\n",
       "      <td>2002-08-23</td>\n",
       "      <td>40.250000</td>\n",
       "      <td>43.625000</td>\n",
       "      <td>39.762501</td>\n",
       "      <td>42.299999</td>\n",
       "      <td>30.965311</td>\n",
       "      <td>4841672.0</td>\n",
       "    </tr>\n",
       "  </tbody>\n",
       "</table>\n",
       "</div>"
      ],
      "text/plain": [
       "         Date       Open       High        Low      Close  Adj Close  \\\n",
       "0  2002-08-12  38.724998  40.000000  38.724998  39.700001  29.062008   \n",
       "1  2002-08-13  39.750000  40.387501  38.875000  39.162498  28.668533   \n",
       "2  2002-08-14  39.250000  39.250000  35.724998  36.462502  26.692036   \n",
       "3  2002-08-15  36.462502  36.462502  36.462502  36.462502  26.692036   \n",
       "4  2002-08-16  36.275002  38.000000  35.750000  36.375000  26.627970   \n",
       "5  2002-08-19  36.674999  36.674999  35.137501  35.474998  25.969135   \n",
       "6  2002-08-20  35.724998  38.724998  35.487499  36.462502  26.692036   \n",
       "7  2002-08-21  38.474998  39.200001  36.525002  38.250000  28.000542   \n",
       "8  2002-08-22  39.512501  41.575001  39.312500  39.900002  29.208418   \n",
       "9  2002-08-23  40.250000  43.625000  39.762501  42.299999  30.965311   \n",
       "\n",
       "      Volume  \n",
       "0   212976.0  \n",
       "1   153576.0  \n",
       "2   822776.0  \n",
       "3        0.0  \n",
       "4   811856.0  \n",
       "5   205880.0  \n",
       "6  3773624.0  \n",
       "7  3011064.0  \n",
       "8  6732480.0  \n",
       "9  4841672.0  "
      ]
     },
     "execution_count": 2,
     "metadata": {},
     "output_type": "execute_result"
    }
   ],
   "source": [
    "data.head(10)"
   ]
  },
  {
   "cell_type": "code",
   "execution_count": 3,
   "id": "91c0217a",
   "metadata": {},
   "outputs": [
    {
     "data": {
      "text/html": [
       "<div>\n",
       "<style scoped>\n",
       "    .dataframe tbody tr th:only-of-type {\n",
       "        vertical-align: middle;\n",
       "    }\n",
       "\n",
       "    .dataframe tbody tr th {\n",
       "        vertical-align: top;\n",
       "    }\n",
       "\n",
       "    .dataframe thead th {\n",
       "        text-align: right;\n",
       "    }\n",
       "</style>\n",
       "<table border=\"1\" class=\"dataframe\">\n",
       "  <thead>\n",
       "    <tr style=\"text-align: right;\">\n",
       "      <th></th>\n",
       "      <th>Date</th>\n",
       "      <th>Open</th>\n",
       "      <th>High</th>\n",
       "      <th>Low</th>\n",
       "      <th>Close</th>\n",
       "      <th>Adj Close</th>\n",
       "      <th>Volume</th>\n",
       "    </tr>\n",
       "  </thead>\n",
       "  <tbody>\n",
       "    <tr>\n",
       "      <th>5019</th>\n",
       "      <td>2022-10-12</td>\n",
       "      <td>3084.899902</td>\n",
       "      <td>3109.899902</td>\n",
       "      <td>3062.050049</td>\n",
       "      <td>3100.750000</td>\n",
       "      <td>3092.745850</td>\n",
       "      <td>1665247.0</td>\n",
       "    </tr>\n",
       "    <tr>\n",
       "      <th>5020</th>\n",
       "      <td>2022-10-13</td>\n",
       "      <td>3100.750000</td>\n",
       "      <td>3110.000000</td>\n",
       "      <td>3052.350098</td>\n",
       "      <td>3103.300049</td>\n",
       "      <td>3095.289307</td>\n",
       "      <td>2054781.0</td>\n",
       "    </tr>\n",
       "    <tr>\n",
       "      <th>5021</th>\n",
       "      <td>2022-10-14</td>\n",
       "      <td>3145.000000</td>\n",
       "      <td>3150.000000</td>\n",
       "      <td>3071.000000</td>\n",
       "      <td>3099.149902</td>\n",
       "      <td>3091.149902</td>\n",
       "      <td>2245977.0</td>\n",
       "    </tr>\n",
       "    <tr>\n",
       "      <th>5022</th>\n",
       "      <td>2022-10-17</td>\n",
       "      <td>3072.649902</td>\n",
       "      <td>3128.399902</td>\n",
       "      <td>3071.449951</td>\n",
       "      <td>3111.750000</td>\n",
       "      <td>3111.750000</td>\n",
       "      <td>1517005.0</td>\n",
       "    </tr>\n",
       "    <tr>\n",
       "      <th>5023</th>\n",
       "      <td>2022-10-18</td>\n",
       "      <td>3150.000000</td>\n",
       "      <td>3155.350098</td>\n",
       "      <td>3128.550049</td>\n",
       "      <td>3144.699951</td>\n",
       "      <td>3144.699951</td>\n",
       "      <td>1793722.0</td>\n",
       "    </tr>\n",
       "    <tr>\n",
       "      <th>5024</th>\n",
       "      <td>2022-10-19</td>\n",
       "      <td>3159.000000</td>\n",
       "      <td>3159.000000</td>\n",
       "      <td>3112.000000</td>\n",
       "      <td>3121.850098</td>\n",
       "      <td>3121.850098</td>\n",
       "      <td>1194289.0</td>\n",
       "    </tr>\n",
       "    <tr>\n",
       "      <th>5025</th>\n",
       "      <td>2022-10-20</td>\n",
       "      <td>3105.000000</td>\n",
       "      <td>3160.000000</td>\n",
       "      <td>3105.000000</td>\n",
       "      <td>3157.300049</td>\n",
       "      <td>3157.300049</td>\n",
       "      <td>1587601.0</td>\n",
       "    </tr>\n",
       "    <tr>\n",
       "      <th>5026</th>\n",
       "      <td>2022-10-21</td>\n",
       "      <td>3157.800049</td>\n",
       "      <td>3160.399902</td>\n",
       "      <td>3127.000000</td>\n",
       "      <td>3137.399902</td>\n",
       "      <td>3137.399902</td>\n",
       "      <td>1021913.0</td>\n",
       "    </tr>\n",
       "    <tr>\n",
       "      <th>5027</th>\n",
       "      <td>2022-10-24</td>\n",
       "      <td>3170.100098</td>\n",
       "      <td>3178.000000</td>\n",
       "      <td>3155.000000</td>\n",
       "      <td>3161.699951</td>\n",
       "      <td>3161.699951</td>\n",
       "      <td>260949.0</td>\n",
       "    </tr>\n",
       "    <tr>\n",
       "      <th>5028</th>\n",
       "      <td>2022-10-25</td>\n",
       "      <td>3180.500000</td>\n",
       "      <td>3184.250000</td>\n",
       "      <td>3151.149902</td>\n",
       "      <td>3162.100098</td>\n",
       "      <td>3162.100098</td>\n",
       "      <td>2069643.0</td>\n",
       "    </tr>\n",
       "  </tbody>\n",
       "</table>\n",
       "</div>"
      ],
      "text/plain": [
       "            Date         Open         High          Low        Close  \\\n",
       "5019  2022-10-12  3084.899902  3109.899902  3062.050049  3100.750000   \n",
       "5020  2022-10-13  3100.750000  3110.000000  3052.350098  3103.300049   \n",
       "5021  2022-10-14  3145.000000  3150.000000  3071.000000  3099.149902   \n",
       "5022  2022-10-17  3072.649902  3128.399902  3071.449951  3111.750000   \n",
       "5023  2022-10-18  3150.000000  3155.350098  3128.550049  3144.699951   \n",
       "5024  2022-10-19  3159.000000  3159.000000  3112.000000  3121.850098   \n",
       "5025  2022-10-20  3105.000000  3160.000000  3105.000000  3157.300049   \n",
       "5026  2022-10-21  3157.800049  3160.399902  3127.000000  3137.399902   \n",
       "5027  2022-10-24  3170.100098  3178.000000  3155.000000  3161.699951   \n",
       "5028  2022-10-25  3180.500000  3184.250000  3151.149902  3162.100098   \n",
       "\n",
       "        Adj Close     Volume  \n",
       "5019  3092.745850  1665247.0  \n",
       "5020  3095.289307  2054781.0  \n",
       "5021  3091.149902  2245977.0  \n",
       "5022  3111.750000  1517005.0  \n",
       "5023  3144.699951  1793722.0  \n",
       "5024  3121.850098  1194289.0  \n",
       "5025  3157.300049  1587601.0  \n",
       "5026  3137.399902  1021913.0  \n",
       "5027  3161.699951   260949.0  \n",
       "5028  3162.100098  2069643.0  "
      ]
     },
     "execution_count": 3,
     "metadata": {},
     "output_type": "execute_result"
    }
   ],
   "source": [
    "data.tail(10)"
   ]
  },
  {
   "cell_type": "code",
   "execution_count": 4,
   "id": "f7cfa8a4",
   "metadata": {},
   "outputs": [],
   "source": [
    "data = data[data[\"Date\"] >= \"2020-01-01\"]"
   ]
  },
  {
   "cell_type": "code",
   "execution_count": 5,
   "id": "4f3dd543",
   "metadata": {},
   "outputs": [],
   "source": [
    "data = data[data[\"Date\"] <= \"2021-12-31\"]"
   ]
  },
  {
   "cell_type": "code",
   "execution_count": 6,
   "id": "288e55b9",
   "metadata": {},
   "outputs": [
    {
     "data": {
      "text/html": [
       "<div>\n",
       "<style scoped>\n",
       "    .dataframe tbody tr th:only-of-type {\n",
       "        vertical-align: middle;\n",
       "    }\n",
       "\n",
       "    .dataframe tbody tr th {\n",
       "        vertical-align: top;\n",
       "    }\n",
       "\n",
       "    .dataframe thead th {\n",
       "        text-align: right;\n",
       "    }\n",
       "</style>\n",
       "<table border=\"1\" class=\"dataframe\">\n",
       "  <thead>\n",
       "    <tr style=\"text-align: right;\">\n",
       "      <th></th>\n",
       "      <th>Date</th>\n",
       "      <th>Open</th>\n",
       "      <th>High</th>\n",
       "      <th>Low</th>\n",
       "      <th>Close</th>\n",
       "      <th>Adj Close</th>\n",
       "      <th>Volume</th>\n",
       "    </tr>\n",
       "  </thead>\n",
       "  <tbody>\n",
       "    <tr>\n",
       "      <th>4328</th>\n",
       "      <td>2020-01-01</td>\n",
       "      <td>2168.000000</td>\n",
       "      <td>2183.899902</td>\n",
       "      <td>2154.000000</td>\n",
       "      <td>2167.600098</td>\n",
       "      <td>2075.234863</td>\n",
       "      <td>1354908.0</td>\n",
       "    </tr>\n",
       "    <tr>\n",
       "      <th>4329</th>\n",
       "      <td>2020-01-02</td>\n",
       "      <td>2179.949951</td>\n",
       "      <td>2179.949951</td>\n",
       "      <td>2149.199951</td>\n",
       "      <td>2157.649902</td>\n",
       "      <td>2065.708984</td>\n",
       "      <td>2380752.0</td>\n",
       "    </tr>\n",
       "    <tr>\n",
       "      <th>4330</th>\n",
       "      <td>2020-01-03</td>\n",
       "      <td>2164.000000</td>\n",
       "      <td>2223.000000</td>\n",
       "      <td>2164.000000</td>\n",
       "      <td>2200.649902</td>\n",
       "      <td>2106.876709</td>\n",
       "      <td>4655761.0</td>\n",
       "    </tr>\n",
       "    <tr>\n",
       "      <th>4331</th>\n",
       "      <td>2020-01-06</td>\n",
       "      <td>2205.000000</td>\n",
       "      <td>2225.949951</td>\n",
       "      <td>2187.899902</td>\n",
       "      <td>2200.449951</td>\n",
       "      <td>2106.685547</td>\n",
       "      <td>3023209.0</td>\n",
       "    </tr>\n",
       "    <tr>\n",
       "      <th>4332</th>\n",
       "      <td>2020-01-07</td>\n",
       "      <td>2200.500000</td>\n",
       "      <td>2214.649902</td>\n",
       "      <td>2183.800049</td>\n",
       "      <td>2205.850098</td>\n",
       "      <td>2111.855225</td>\n",
       "      <td>2429317.0</td>\n",
       "    </tr>\n",
       "    <tr>\n",
       "      <th>4333</th>\n",
       "      <td>2020-01-08</td>\n",
       "      <td>2205.000000</td>\n",
       "      <td>2260.000000</td>\n",
       "      <td>2202.050049</td>\n",
       "      <td>2255.250000</td>\n",
       "      <td>2159.150879</td>\n",
       "      <td>5197454.0</td>\n",
       "    </tr>\n",
       "    <tr>\n",
       "      <th>4334</th>\n",
       "      <td>2020-01-09</td>\n",
       "      <td>2248.750000</td>\n",
       "      <td>2251.949951</td>\n",
       "      <td>2210.000000</td>\n",
       "      <td>2214.350098</td>\n",
       "      <td>2119.992432</td>\n",
       "      <td>3734173.0</td>\n",
       "    </tr>\n",
       "    <tr>\n",
       "      <th>4335</th>\n",
       "      <td>2020-01-10</td>\n",
       "      <td>2228.000000</td>\n",
       "      <td>2234.000000</td>\n",
       "      <td>2208.000000</td>\n",
       "      <td>2213.550049</td>\n",
       "      <td>2119.227295</td>\n",
       "      <td>1915807.0</td>\n",
       "    </tr>\n",
       "    <tr>\n",
       "      <th>4336</th>\n",
       "      <td>2020-01-13</td>\n",
       "      <td>2217.850098</td>\n",
       "      <td>2218.949951</td>\n",
       "      <td>2184.699951</td>\n",
       "      <td>2190.350098</td>\n",
       "      <td>2097.015381</td>\n",
       "      <td>2843893.0</td>\n",
       "    </tr>\n",
       "    <tr>\n",
       "      <th>4337</th>\n",
       "      <td>2020-01-14</td>\n",
       "      <td>2195.000000</td>\n",
       "      <td>2229.800049</td>\n",
       "      <td>2195.000000</td>\n",
       "      <td>2206.899902</td>\n",
       "      <td>2112.860107</td>\n",
       "      <td>2948452.0</td>\n",
       "    </tr>\n",
       "  </tbody>\n",
       "</table>\n",
       "</div>"
      ],
      "text/plain": [
       "            Date         Open         High          Low        Close  \\\n",
       "4328  2020-01-01  2168.000000  2183.899902  2154.000000  2167.600098   \n",
       "4329  2020-01-02  2179.949951  2179.949951  2149.199951  2157.649902   \n",
       "4330  2020-01-03  2164.000000  2223.000000  2164.000000  2200.649902   \n",
       "4331  2020-01-06  2205.000000  2225.949951  2187.899902  2200.449951   \n",
       "4332  2020-01-07  2200.500000  2214.649902  2183.800049  2205.850098   \n",
       "4333  2020-01-08  2205.000000  2260.000000  2202.050049  2255.250000   \n",
       "4334  2020-01-09  2248.750000  2251.949951  2210.000000  2214.350098   \n",
       "4335  2020-01-10  2228.000000  2234.000000  2208.000000  2213.550049   \n",
       "4336  2020-01-13  2217.850098  2218.949951  2184.699951  2190.350098   \n",
       "4337  2020-01-14  2195.000000  2229.800049  2195.000000  2206.899902   \n",
       "\n",
       "        Adj Close     Volume  \n",
       "4328  2075.234863  1354908.0  \n",
       "4329  2065.708984  2380752.0  \n",
       "4330  2106.876709  4655761.0  \n",
       "4331  2106.685547  3023209.0  \n",
       "4332  2111.855225  2429317.0  \n",
       "4333  2159.150879  5197454.0  \n",
       "4334  2119.992432  3734173.0  \n",
       "4335  2119.227295  1915807.0  \n",
       "4336  2097.015381  2843893.0  \n",
       "4337  2112.860107  2948452.0  "
      ]
     },
     "execution_count": 6,
     "metadata": {},
     "output_type": "execute_result"
    }
   ],
   "source": [
    "data.head(10)"
   ]
  },
  {
   "cell_type": "code",
   "execution_count": 7,
   "id": "45aa29d5",
   "metadata": {},
   "outputs": [
    {
     "data": {
      "text/html": [
       "<div>\n",
       "<style scoped>\n",
       "    .dataframe tbody tr th:only-of-type {\n",
       "        vertical-align: middle;\n",
       "    }\n",
       "\n",
       "    .dataframe tbody tr th {\n",
       "        vertical-align: top;\n",
       "    }\n",
       "\n",
       "    .dataframe thead th {\n",
       "        text-align: right;\n",
       "    }\n",
       "</style>\n",
       "<table border=\"1\" class=\"dataframe\">\n",
       "  <thead>\n",
       "    <tr style=\"text-align: right;\">\n",
       "      <th></th>\n",
       "      <th>Date</th>\n",
       "      <th>Open</th>\n",
       "      <th>High</th>\n",
       "      <th>Low</th>\n",
       "      <th>Close</th>\n",
       "      <th>Adj Close</th>\n",
       "      <th>Volume</th>\n",
       "    </tr>\n",
       "  </thead>\n",
       "  <tbody>\n",
       "    <tr>\n",
       "      <th>4817</th>\n",
       "      <td>2021-12-20</td>\n",
       "      <td>3589.000000</td>\n",
       "      <td>3606.000000</td>\n",
       "      <td>3510.149902</td>\n",
       "      <td>3556.899902</td>\n",
       "      <td>3508.537842</td>\n",
       "      <td>2312310.0</td>\n",
       "    </tr>\n",
       "    <tr>\n",
       "      <th>4818</th>\n",
       "      <td>2021-12-21</td>\n",
       "      <td>3582.649902</td>\n",
       "      <td>3641.199951</td>\n",
       "      <td>3566.399902</td>\n",
       "      <td>3608.300049</td>\n",
       "      <td>3559.239014</td>\n",
       "      <td>2340989.0</td>\n",
       "    </tr>\n",
       "    <tr>\n",
       "      <th>4819</th>\n",
       "      <td>2021-12-22</td>\n",
       "      <td>3624.000000</td>\n",
       "      <td>3636.800049</td>\n",
       "      <td>3606.250000</td>\n",
       "      <td>3630.750000</td>\n",
       "      <td>3581.383789</td>\n",
       "      <td>1224328.0</td>\n",
       "    </tr>\n",
       "    <tr>\n",
       "      <th>4820</th>\n",
       "      <td>2021-12-23</td>\n",
       "      <td>3648.000000</td>\n",
       "      <td>3670.500000</td>\n",
       "      <td>3630.000000</td>\n",
       "      <td>3662.699951</td>\n",
       "      <td>3612.899170</td>\n",
       "      <td>1792861.0</td>\n",
       "    </tr>\n",
       "    <tr>\n",
       "      <th>4821</th>\n",
       "      <td>2021-12-24</td>\n",
       "      <td>3685.000000</td>\n",
       "      <td>3705.000000</td>\n",
       "      <td>3644.800049</td>\n",
       "      <td>3670.899902</td>\n",
       "      <td>3620.987793</td>\n",
       "      <td>2209923.0</td>\n",
       "    </tr>\n",
       "    <tr>\n",
       "      <th>4822</th>\n",
       "      <td>2021-12-27</td>\n",
       "      <td>3671.000000</td>\n",
       "      <td>3700.000000</td>\n",
       "      <td>3653.100098</td>\n",
       "      <td>3696.100098</td>\n",
       "      <td>3645.845459</td>\n",
       "      <td>1534135.0</td>\n",
       "    </tr>\n",
       "    <tr>\n",
       "      <th>4823</th>\n",
       "      <td>2021-12-28</td>\n",
       "      <td>3710.000000</td>\n",
       "      <td>3725.000000</td>\n",
       "      <td>3693.850098</td>\n",
       "      <td>3706.550049</td>\n",
       "      <td>3656.153564</td>\n",
       "      <td>1456218.0</td>\n",
       "    </tr>\n",
       "    <tr>\n",
       "      <th>4824</th>\n",
       "      <td>2021-12-29</td>\n",
       "      <td>3692.250000</td>\n",
       "      <td>3719.949951</td>\n",
       "      <td>3685.000000</td>\n",
       "      <td>3694.699951</td>\n",
       "      <td>3644.464111</td>\n",
       "      <td>1456923.0</td>\n",
       "    </tr>\n",
       "    <tr>\n",
       "      <th>4825</th>\n",
       "      <td>2021-12-30</td>\n",
       "      <td>3681.350098</td>\n",
       "      <td>3740.000000</td>\n",
       "      <td>3680.000000</td>\n",
       "      <td>3733.750000</td>\n",
       "      <td>3682.983154</td>\n",
       "      <td>1966475.0</td>\n",
       "    </tr>\n",
       "    <tr>\n",
       "      <th>4826</th>\n",
       "      <td>2021-12-31</td>\n",
       "      <td>3742.800049</td>\n",
       "      <td>3760.000000</td>\n",
       "      <td>3731.300049</td>\n",
       "      <td>3738.350098</td>\n",
       "      <td>3687.520996</td>\n",
       "      <td>1207141.0</td>\n",
       "    </tr>\n",
       "  </tbody>\n",
       "</table>\n",
       "</div>"
      ],
      "text/plain": [
       "            Date         Open         High          Low        Close  \\\n",
       "4817  2021-12-20  3589.000000  3606.000000  3510.149902  3556.899902   \n",
       "4818  2021-12-21  3582.649902  3641.199951  3566.399902  3608.300049   \n",
       "4819  2021-12-22  3624.000000  3636.800049  3606.250000  3630.750000   \n",
       "4820  2021-12-23  3648.000000  3670.500000  3630.000000  3662.699951   \n",
       "4821  2021-12-24  3685.000000  3705.000000  3644.800049  3670.899902   \n",
       "4822  2021-12-27  3671.000000  3700.000000  3653.100098  3696.100098   \n",
       "4823  2021-12-28  3710.000000  3725.000000  3693.850098  3706.550049   \n",
       "4824  2021-12-29  3692.250000  3719.949951  3685.000000  3694.699951   \n",
       "4825  2021-12-30  3681.350098  3740.000000  3680.000000  3733.750000   \n",
       "4826  2021-12-31  3742.800049  3760.000000  3731.300049  3738.350098   \n",
       "\n",
       "        Adj Close     Volume  \n",
       "4817  3508.537842  2312310.0  \n",
       "4818  3559.239014  2340989.0  \n",
       "4819  3581.383789  1224328.0  \n",
       "4820  3612.899170  1792861.0  \n",
       "4821  3620.987793  2209923.0  \n",
       "4822  3645.845459  1534135.0  \n",
       "4823  3656.153564  1456218.0  \n",
       "4824  3644.464111  1456923.0  \n",
       "4825  3682.983154  1966475.0  \n",
       "4826  3687.520996  1207141.0  "
      ]
     },
     "execution_count": 7,
     "metadata": {},
     "output_type": "execute_result"
    }
   ],
   "source": [
    "data.tail(10)"
   ]
  },
  {
   "cell_type": "code",
   "execution_count": 8,
   "id": "dc23354d",
   "metadata": {},
   "outputs": [],
   "source": [
    "data[\"Date\"] = pd.to_datetime(data[\"Date\"])"
   ]
  },
  {
   "cell_type": "code",
   "execution_count": 9,
   "id": "3e365595",
   "metadata": {},
   "outputs": [
    {
     "name": "stdout",
     "output_type": "stream",
     "text": [
      "<class 'pandas.core.frame.DataFrame'>\n",
      "Int64Index: 499 entries, 4328 to 4826\n",
      "Data columns (total 7 columns):\n",
      " #   Column     Non-Null Count  Dtype         \n",
      "---  ------     --------------  -----         \n",
      " 0   Date       499 non-null    datetime64[ns]\n",
      " 1   Open       499 non-null    float64       \n",
      " 2   High       499 non-null    float64       \n",
      " 3   Low        499 non-null    float64       \n",
      " 4   Close      499 non-null    float64       \n",
      " 5   Adj Close  499 non-null    float64       \n",
      " 6   Volume     499 non-null    float64       \n",
      "dtypes: datetime64[ns](1), float64(6)\n",
      "memory usage: 31.2 KB\n"
     ]
    }
   ],
   "source": [
    "data.info()"
   ]
  },
  {
   "cell_type": "code",
   "execution_count": 10,
   "id": "f886dcef",
   "metadata": {},
   "outputs": [],
   "source": [
    "data = data.loc[:,[\"Date\", \"Volume\"]]"
   ]
  },
  {
   "cell_type": "code",
   "execution_count": 11,
   "id": "12085cfe",
   "metadata": {},
   "outputs": [],
   "source": [
    "data = data.set_index(\"Date\")"
   ]
  },
  {
   "cell_type": "code",
   "execution_count": 12,
   "id": "765a2ae9",
   "metadata": {},
   "outputs": [],
   "source": [
    "new_date_range = pd.date_range(start=\"2020-01-01\", end=\"2021-12-31\", freq=\"D\")\n",
    "data = data.reindex(new_date_range, fill_value=np.nan)"
   ]
  },
  {
   "cell_type": "code",
   "execution_count": 13,
   "id": "e22c47ed",
   "metadata": {},
   "outputs": [
    {
     "name": "stdout",
     "output_type": "stream",
     "text": [
      "<class 'pandas.core.frame.DataFrame'>\n",
      "DatetimeIndex: 731 entries, 2020-01-01 to 2021-12-31\n",
      "Freq: D\n",
      "Data columns (total 1 columns):\n",
      " #   Column  Non-Null Count  Dtype  \n",
      "---  ------  --------------  -----  \n",
      " 0   Volume  499 non-null    float64\n",
      "dtypes: float64(1)\n",
      "memory usage: 11.4 KB\n"
     ]
    }
   ],
   "source": [
    "data.info()"
   ]
  },
  {
   "cell_type": "code",
   "execution_count": 14,
   "id": "3b7a86ea",
   "metadata": {},
   "outputs": [],
   "source": [
    "data = data.ffill(axis = 0)"
   ]
  },
  {
   "cell_type": "markdown",
   "id": "25ae436f",
   "metadata": {},
   "source": [
    "## Checking for stationarity (ADF test)"
   ]
  },
  {
   "cell_type": "code",
   "execution_count": 15,
   "id": "0bf0b702",
   "metadata": {},
   "outputs": [],
   "source": [
    "from statsmodels.tsa.stattools import adfuller"
   ]
  },
  {
   "cell_type": "code",
   "execution_count": 16,
   "id": "ed1ed8ad",
   "metadata": {},
   "outputs": [
    {
     "name": "stdout",
     "output_type": "stream",
     "text": [
      "(-8.409924236246006, 2.1173846619904417e-13, 18, 709, {'1%': -3.439606888036868, '5%': -2.865625121924057, '10%': -2.5689454046801052}, 22146.733332388245)\n"
     ]
    }
   ],
   "source": [
    "shiftedData = data[\"Volume\"] - data[\"Volume\"].shift(3)\n",
    "shiftedData = shiftedData.dropna()\n",
    "adftest = adfuller(shiftedData)\n",
    "print(adftest)"
   ]
  },
  {
   "cell_type": "code",
   "execution_count": 17,
   "id": "8dbd6349",
   "metadata": {},
   "outputs": [],
   "source": [
    "from statsmodels.tsa.seasonal import seasonal_decompose\n",
    "\n",
    "decompose = seasonal_decompose(data, period = 365)\n",
    "trend = decompose.trend\n",
    "seasonal = decompose.seasonal"
   ]
  },
  {
   "cell_type": "code",
   "execution_count": 18,
   "id": "a62937ec",
   "metadata": {},
   "outputs": [],
   "source": [
    "import matplotlib.pyplot as plt"
   ]
  },
  {
   "cell_type": "code",
   "execution_count": 19,
   "id": "fe7202f9",
   "metadata": {},
   "outputs": [
    {
     "data": {
      "text/plain": [
       "[<matplotlib.lines.Line2D at 0x1a06e370790>]"
      ]
     },
     "execution_count": 19,
     "metadata": {},
     "output_type": "execute_result"
    },
    {
     "data": {
      "image/png": "[encoded data removed]",
      "text/plain": [
       "<Figure size 640x480 with 1 Axes>"
      ]
     },
     "metadata": {},
     "output_type": "display_data"
    }
   ],
   "source": [
    "plt.plot(trend)"
   ]
  },
  {
   "cell_type": "code",
   "execution_count": 20,
   "id": "973e4f68",
   "metadata": {},
   "outputs": [
    {
     "data": {
      "text/plain": [
       "[<matplotlib.lines.Line2D at 0x1a06e425fd0>]"
      ]
     },
     "execution_count": 20,
     "metadata": {},
     "output_type": "execute_result"
    },
    {
     "data": {
      "image/png": "[encoded data removed]",
      "text/plain": [
       "<Figure size 640x480 with 1 Axes>"
      ]
     },
     "metadata": {},
     "output_type": "display_data"
    }
   ],
   "source": [
    "plt.plot(seasonal)"
   ]
  },
  {
   "cell_type": "code",
   "execution_count": 21,
   "id": "40c45dfb",
   "metadata": {},
   "outputs": [],
   "source": [
    "from statsmodels.tsa.stattools import acf, pacf"
   ]
  },
  {
   "cell_type": "code",
   "execution_count": 22,
   "id": "aef71950",
   "metadata": {},
   "outputs": [],
   "source": [
    "acfPlot = acf(shiftedData)\n",
    "pacfPlot = pacf(shiftedData)"
   ]
  },
  {
   "cell_type": "code",
   "execution_count": 23,
   "id": "ce278d8d",
   "metadata": {},
   "outputs": [
    {
     "data": {
      "text/plain": [
       "array([ 1.        ,  0.43469523,  0.07952843, -0.35879345, -0.21118381,\n",
       "       -0.16322893, -0.11538284, -0.11903495, -0.07063346, -0.02843343,\n",
       "        0.02579215,  0.02289041,  0.03522154,  0.03999475,  0.05252423,\n",
       "        0.00259464, -0.01837384, -0.06252657, -0.05065385, -0.01696944,\n",
       "        0.04134741,  0.0876707 ,  0.06305724, -0.00659299, -0.09484447,\n",
       "       -0.07443411,  0.0029418 ,  0.06377193,  0.05335266])"
      ]
     },
     "execution_count": 23,
     "metadata": {},
     "output_type": "execute_result"
    }
   ],
   "source": [
    "acfPlot"
   ]
  },
  {
   "cell_type": "code",
   "execution_count": 24,
   "id": "a814793c",
   "metadata": {},
   "outputs": [
    {
     "data": {
      "text/plain": [
       "[<matplotlib.lines.Line2D at 0x1a06e4a1970>]"
      ]
     },
     "execution_count": 24,
     "metadata": {},
     "output_type": "execute_result"
    },
    {
     "data": {
      "image/png": "[encoded data removed]",
      "text/plain": [
       "<Figure size 640x480 with 1 Axes>"
      ]
     },
     "metadata": {},
     "output_type": "display_data"
    }
   ],
   "source": [
    "plt.plot(acfPlot)"
   ]
  },
  {
   "cell_type": "code",
   "execution_count": 25,
   "id": "69d345ad",
   "metadata": {},
   "outputs": [
    {
     "data": {
      "text/plain": [
       "array([ 1.00000000e+00,  4.35293158e-01, -1.35385477e-01, -4.28270157e-01,\n",
       "        1.92632963e-01, -1.19900954e-01, -2.87525503e-01,  4.76949233e-02,\n",
       "       -5.81512599e-02, -1.86784710e-01,  3.90536926e-02, -5.78608962e-02,\n",
       "       -1.03755543e-01,  5.22295645e-02, -2.27259436e-02, -1.33913609e-01,\n",
       "        4.26007498e-02, -6.58996035e-02, -1.19631044e-01,  8.32387791e-02,\n",
       "        7.69285000e-04, -3.00437018e-02,  4.35561618e-02, -7.40668594e-02,\n",
       "       -1.20966717e-01,  9.23588854e-02,  2.35417996e-02, -8.76243815e-02,\n",
       "        8.01585390e-02])"
      ]
     },
     "execution_count": 25,
     "metadata": {},
     "output_type": "execute_result"
    }
   ],
   "source": [
    "pacfPlot"
   ]
  },
  {
   "cell_type": "code",
   "execution_count": 26,
   "id": "9aeca337",
   "metadata": {
    "scrolled": true
   },
   "outputs": [
    {
     "data": {
      "text/plain": [
       "[<matplotlib.lines.Line2D at 0x1a06e512550>]"
      ]
     },
     "execution_count": 26,
     "metadata": {},
     "output_type": "execute_result"
    },
    {
     "data": {
      "image/png": "[encoded data removed]",
      "text/plain": [
       "<Figure size 640x480 with 1 Axes>"
      ]
     },
     "metadata": {},
     "output_type": "display_data"
    }
   ],
   "source": [
    "plt.plot(pacfPlot)"
   ]
  },
  {
   "cell_type": "code",
   "execution_count": 27,
   "id": "d69f5445",
   "metadata": {},
   "outputs": [],
   "source": [
    "from statsmodels.tsa.arima.model import ARIMA"
   ]
  },
  {
   "cell_type": "code",
   "execution_count": 29,
   "id": "6270862b",
   "metadata": {},
   "outputs": [
    {
     "ename": "MemoryError",
     "evalue": "Unable to allocate 11.7 GiB for an array with shape (1465, 1465, 731) and data type float64",
     "output_type": "error",
     "traceback": [
      "\u001b[1;31m---------------------------------------------------------------------------\u001b[0m",
      "\u001b[1;31mMemoryError\u001b[0m                               Traceback (most recent call last)",
      "\u001b[1;32m~\\AppData\\Local\\Temp\\ipykernel_23240\\4022166854.py\u001b[0m in \u001b[0;36m<module>\u001b[1;34m\u001b[0m\n\u001b[0;32m      1\u001b[0m \u001b[0mmodel\u001b[0m \u001b[1;33m=\u001b[0m \u001b[0mARIMA\u001b[0m\u001b[1;33m(\u001b[0m\u001b[0mdata\u001b[0m\u001b[1;33m,\u001b[0m \u001b[0morder\u001b[0m \u001b[1;33m=\u001b[0m \u001b[1;33m(\u001b[0m\u001b[1;36m2\u001b[0m\u001b[1;33m,\u001b[0m\u001b[1;36m2\u001b[0m\u001b[1;33m,\u001b[0m\u001b[1;36m2\u001b[0m\u001b[1;33m)\u001b[0m\u001b[1;33m,\u001b[0m \u001b[0mseasonal_order\u001b[0m \u001b[1;33m=\u001b[0m \u001b[1;33m(\u001b[0m\u001b[1;36m2\u001b[0m\u001b[1;33m,\u001b[0m\u001b[1;36m2\u001b[0m\u001b[1;33m,\u001b[0m\u001b[1;36m2\u001b[0m\u001b[1;33m,\u001b[0m\u001b[1;36m365\u001b[0m\u001b[1;33m)\u001b[0m\u001b[1;33m)\u001b[0m\u001b[1;33m\u001b[0m\u001b[1;33m\u001b[0m\u001b[0m\n\u001b[1;32m----> 2\u001b[1;33m \u001b[0mmodel\u001b[0m \u001b[1;33m=\u001b[0m \u001b[0mmodel\u001b[0m\u001b[1;33m.\u001b[0m\u001b[0mfit\u001b[0m\u001b[1;33m(\u001b[0m\u001b[1;33m)\u001b[0m\u001b[1;33m\u001b[0m\u001b[1;33m\u001b[0m\u001b[0m\n\u001b[0m",
      "\u001b[1;32m~\\miniconda3\\envs\\EDA\\lib\\site-packages\\statsmodels\\tsa\\arima\\model.py\u001b[0m in \u001b[0;36mfit\u001b[1;34m(self, start_params, transformed, includes_fixed, method, method_kwargs, gls, gls_kwargs, cov_type, cov_kwds, return_params, low_memory)\u001b[0m\n\u001b[0;32m    388\u001b[0m                 \u001b[0mmethod_kwargs\u001b[0m\u001b[1;33m.\u001b[0m\u001b[0msetdefault\u001b[0m\u001b[1;33m(\u001b[0m\u001b[1;34m'disp'\u001b[0m\u001b[1;33m,\u001b[0m \u001b[1;36m0\u001b[0m\u001b[1;33m)\u001b[0m\u001b[1;33m\u001b[0m\u001b[1;33m\u001b[0m\u001b[0m\n\u001b[0;32m    389\u001b[0m \u001b[1;33m\u001b[0m\u001b[0m\n\u001b[1;32m--> 390\u001b[1;33m                 res = super().fit(\n\u001b[0m\u001b[0;32m    391\u001b[0m                     \u001b[0mreturn_params\u001b[0m\u001b[1;33m=\u001b[0m\u001b[0mreturn_params\u001b[0m\u001b[1;33m,\u001b[0m \u001b[0mlow_memory\u001b[0m\u001b[1;33m=\u001b[0m\u001b[0mlow_memory\u001b[0m\u001b[1;33m,\u001b[0m\u001b[1;33m\u001b[0m\u001b[1;33m\u001b[0m\u001b[0m\n\u001b[0;32m    392\u001b[0m                     cov_type=cov_type, cov_kwds=cov_kwds, **method_kwargs)\n",
      "\u001b[1;32m~\\miniconda3\\envs\\EDA\\lib\\site-packages\\statsmodels\\tsa\\statespace\\mlemodel.py\u001b[0m in \u001b[0;36mfit\u001b[1;34m(self, start_params, transformed, includes_fixed, cov_type, cov_kwds, method, maxiter, full_output, disp, callback, return_params, optim_score, optim_complex_step, optim_hessian, flags, low_memory, **kwargs)\u001b[0m\n\u001b[0;32m    726\u001b[0m             \u001b[1;32melse\u001b[0m\u001b[1;33m:\u001b[0m\u001b[1;33m\u001b[0m\u001b[1;33m\u001b[0m\u001b[0m\n\u001b[0;32m    727\u001b[0m                 \u001b[0mfunc\u001b[0m \u001b[1;33m=\u001b[0m \u001b[0mself\u001b[0m\u001b[1;33m.\u001b[0m\u001b[0msmooth\u001b[0m\u001b[1;33m\u001b[0m\u001b[1;33m\u001b[0m\u001b[0m\n\u001b[1;32m--> 728\u001b[1;33m             res = func(mlefit.params, transformed=False, includes_fixed=False,\n\u001b[0m\u001b[0;32m    729\u001b[0m                        cov_type=cov_type, cov_kwds=cov_kwds)\n\u001b[0;32m    730\u001b[0m \u001b[1;33m\u001b[0m\u001b[0m\n",
      "\u001b[1;32m~\\miniconda3\\envs\\EDA\\lib\\site-packages\\statsmodels\\tsa\\statespace\\mlemodel.py\u001b[0m in \u001b[0;36msmooth\u001b[1;34m(self, params, transformed, includes_fixed, complex_step, cov_type, cov_kwds, return_ssm, results_class, results_wrapper_class, **kwargs)\u001b[0m\n\u001b[0;32m    884\u001b[0m \u001b[1;33m\u001b[0m\u001b[0m\n\u001b[0;32m    885\u001b[0m         \u001b[1;31m# Get the state space output\u001b[0m\u001b[1;33m\u001b[0m\u001b[1;33m\u001b[0m\u001b[0m\n\u001b[1;32m--> 886\u001b[1;33m         \u001b[0mresult\u001b[0m \u001b[1;33m=\u001b[0m \u001b[0mself\u001b[0m\u001b[1;33m.\u001b[0m\u001b[0mssm\u001b[0m\u001b[1;33m.\u001b[0m\u001b[0msmooth\u001b[0m\u001b[1;33m(\u001b[0m\u001b[0mcomplex_step\u001b[0m\u001b[1;33m=\u001b[0m\u001b[0mcomplex_step\u001b[0m\u001b[1;33m,\u001b[0m \u001b[1;33m**\u001b[0m\u001b[0mkwargs\u001b[0m\u001b[1;33m)\u001b[0m\u001b[1;33m\u001b[0m\u001b[1;33m\u001b[0m\u001b[0m\n\u001b[0m\u001b[0;32m    887\u001b[0m \u001b[1;33m\u001b[0m\u001b[0m\n\u001b[0;32m    888\u001b[0m         \u001b[1;31m# Wrap in a results object\u001b[0m\u001b[1;33m\u001b[0m\u001b[1;33m\u001b[0m\u001b[0m\n",
      "\u001b[1;32m~\\miniconda3\\envs\\EDA\\lib\\site-packages\\statsmodels\\tsa\\statespace\\kalman_smoother.py\u001b[0m in \u001b[0;36msmooth\u001b[1;34m(self, smoother_output, smooth_method, results, run_filter, prefix, complex_step, update_representation, update_filter, update_smoother, **kwargs)\u001b[0m\n\u001b[0;32m    392\u001b[0m \u001b[1;33m\u001b[0m\u001b[0m\n\u001b[0;32m    393\u001b[0m         \u001b[1;31m# Run the filter\u001b[0m\u001b[1;33m\u001b[0m\u001b[1;33m\u001b[0m\u001b[0m\n\u001b[1;32m--> 394\u001b[1;33m         \u001b[0mkfilter\u001b[0m \u001b[1;33m=\u001b[0m \u001b[0mself\u001b[0m\u001b[1;33m.\u001b[0m\u001b[0m_filter\u001b[0m\u001b[1;33m(\u001b[0m\u001b[1;33m**\u001b[0m\u001b[0mkwargs\u001b[0m\u001b[1;33m)\u001b[0m\u001b[1;33m\u001b[0m\u001b[1;33m\u001b[0m\u001b[0m\n\u001b[0m\u001b[0;32m    395\u001b[0m \u001b[1;33m\u001b[0m\u001b[0m\n\u001b[0;32m    396\u001b[0m         \u001b[1;31m# Create the results object\u001b[0m\u001b[1;33m\u001b[0m\u001b[1;33m\u001b[0m\u001b[0m\n",
      "\u001b[1;32m~\\miniconda3\\envs\\EDA\\lib\\site-packages\\statsmodels\\tsa\\statespace\\kalman_filter.py\u001b[0m in \u001b[0;36m_filter\u001b[1;34m(self, filter_method, inversion_method, stability_method, conserve_memory, filter_timing, tolerance, loglikelihood_burn, complex_step)\u001b[0m\n\u001b[0;32m    893\u001b[0m         \u001b[1;31m# Initialize the filter\u001b[0m\u001b[1;33m\u001b[0m\u001b[1;33m\u001b[0m\u001b[0m\n\u001b[0;32m    894\u001b[0m         prefix, dtype, create_filter, create_statespace = (\n\u001b[1;32m--> 895\u001b[1;33m             self._initialize_filter(\n\u001b[0m\u001b[0;32m    896\u001b[0m                 \u001b[0mfilter_method\u001b[0m\u001b[1;33m,\u001b[0m \u001b[0minversion_method\u001b[0m\u001b[1;33m,\u001b[0m \u001b[0mstability_method\u001b[0m\u001b[1;33m,\u001b[0m\u001b[1;33m\u001b[0m\u001b[1;33m\u001b[0m\u001b[0m\n\u001b[0;32m    897\u001b[0m                 \u001b[0mconserve_memory\u001b[0m\u001b[1;33m,\u001b[0m \u001b[0mfilter_timing\u001b[0m\u001b[1;33m,\u001b[0m \u001b[0mtolerance\u001b[0m\u001b[1;33m,\u001b[0m \u001b[0mloglikelihood_burn\u001b[0m\u001b[1;33m\u001b[0m\u001b[1;33m\u001b[0m\u001b[0m\n",
      "\u001b[1;32m~\\miniconda3\\envs\\EDA\\lib\\site-packages\\statsmodels\\tsa\\statespace\\kalman_filter.py\u001b[0m in \u001b[0;36m_initialize_filter\u001b[1;34m(self, filter_method, inversion_method, stability_method, conserve_memory, tolerance, filter_timing, loglikelihood_burn)\u001b[0m\n\u001b[0;32m    481\u001b[0m             \u001b[1;31m# Setup the filter\u001b[0m\u001b[1;33m\u001b[0m\u001b[1;33m\u001b[0m\u001b[0m\n\u001b[0;32m    482\u001b[0m             \u001b[0mcls\u001b[0m \u001b[1;33m=\u001b[0m \u001b[0mself\u001b[0m\u001b[1;33m.\u001b[0m\u001b[0mprefix_kalman_filter_map\u001b[0m\u001b[1;33m[\u001b[0m\u001b[0mprefix\u001b[0m\u001b[1;33m]\u001b[0m\u001b[1;33m\u001b[0m\u001b[1;33m\u001b[0m\u001b[0m\n\u001b[1;32m--> 483\u001b[1;33m             self._kalman_filters[prefix] = cls(\n\u001b[0m\u001b[0;32m    484\u001b[0m                 \u001b[0mself\u001b[0m\u001b[1;33m.\u001b[0m\u001b[0m_statespaces\u001b[0m\u001b[1;33m[\u001b[0m\u001b[0mprefix\u001b[0m\u001b[1;33m]\u001b[0m\u001b[1;33m,\u001b[0m \u001b[0mfilter_method\u001b[0m\u001b[1;33m,\u001b[0m \u001b[0minversion_method\u001b[0m\u001b[1;33m,\u001b[0m\u001b[1;33m\u001b[0m\u001b[1;33m\u001b[0m\u001b[0m\n\u001b[0;32m    485\u001b[0m                 \u001b[0mstability_method\u001b[0m\u001b[1;33m,\u001b[0m \u001b[0mconserve_memory\u001b[0m\u001b[1;33m,\u001b[0m \u001b[0mfilter_timing\u001b[0m\u001b[1;33m,\u001b[0m \u001b[0mtolerance\u001b[0m\u001b[1;33m,\u001b[0m\u001b[1;33m\u001b[0m\u001b[1;33m\u001b[0m\u001b[0m\n",
      "\u001b[1;32mstatsmodels\\tsa\\statespace\\_kalman_filter.pyx\u001b[0m in \u001b[0;36mstatsmodels.tsa.statespace._kalman_filter.dKalmanFilter.__init__\u001b[1;34m()\u001b[0m\n",
      "\u001b[1;32mstatsmodels\\tsa\\statespace\\_kalman_filter.pyx\u001b[0m in \u001b[0;36mstatsmodels.tsa.statespace._kalman_filter.dKalmanFilter.set_filter_method\u001b[1;34m()\u001b[0m\n",
      "\u001b[1;32mstatsmodels\\tsa\\statespace\\_kalman_filter.pyx\u001b[0m in \u001b[0;36mstatsmodels.tsa.statespace._kalman_filter.dKalmanFilter.allocate_arrays\u001b[1;34m()\u001b[0m\n",
      "\u001b[1;31mMemoryError\u001b[0m: Unable to allocate 11.7 GiB for an array with shape (1465, 1465, 731) and data type float64"
     ]
    }
   ],
   "source": [
    "model = ARIMA(data, order = (2,2,2), seasonal_order = (2,2,2,365))\n",
    "model = model.fit()"
   ]
  },
  {
   "cell_type": "code",
   "execution_count": null,
   "id": "ee8d493b",
   "metadata": {},
   "outputs": [],
   "source": []
  }
 ],
 "metadata": {
  "kernelspec": {
   "display_name": "Python 3 (ipykernel)",
   "language": "python",
   "name": "python3"
  },
  "language_info": {
   "codemirror_mode": {
    "name": "ipython",
    "version": 3
   },
   "file_extension": ".py",
   "mimetype": "text/x-python",
   "name": "python",
   "nbconvert_exporter": "python",
   "pygments_lexer": "ipython3",
   "version": "3.9.13"
  }
 },
 "nbformat": 4,
 "nbformat_minor": 5
}
